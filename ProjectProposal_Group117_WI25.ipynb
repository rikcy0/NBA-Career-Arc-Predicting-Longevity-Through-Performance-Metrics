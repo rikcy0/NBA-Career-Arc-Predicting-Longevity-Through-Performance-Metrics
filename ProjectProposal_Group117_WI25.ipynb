{
 "cells": [
  {
   "cell_type": "markdown",
   "metadata": {},
   "source": [
    "# COGS 108 - Project Proposal"
   ]
  },
  {
   "cell_type": "markdown",
   "metadata": {},
   "source": [
    "# Names\n",
    "\n",
    "- Alan Xia\n",
    "- David Lu\n",
    "- Jin Noh\n",
    "- Nathan Tewinpagti\n",
    "- Ricky Wen"
   ]
  },
  {
   "cell_type": "markdown",
   "metadata": {},
   "source": [
    "# Research Question"
   ]
  },
  {
   "cell_type": "markdown",
   "metadata": {},
   "source": [
    "-  Include a specific, clear data science question.\n",
    "-  Make sure what you're measuring (variables) to answer the question is clear\n",
    "\n",
    "This question should be specific, answerable with data, and clear. A general question with specific subquestions is permitted. (1-2 sentences). When we read this we should know clearly what your project will be about\n",
    "\n",
    "Which statistical metrics (e.g. Player Efficiency Rating, box plus-minus, true shooting percentage, etc.) have the highest predictive accuracy when it comes to determining a player's career longevity over the past 20 seasons within the NBA and how does this differ across positions?"
   ]
  },
  {
   "cell_type": "markdown",
   "metadata": {},
   "source": [
    "## Background and Prior Work"
   ]
  },
  {
   "cell_type": "markdown",
   "metadata": {},
   "source": [
    "\n",
    "- Include a general introduction to your topic\n",
    "- Include explanation of what work has been done previously\n",
    "- Include citations or links to previous work\n",
    "\n",
    "This section will present the background and context of your topic and question in a few paragraphs. Include a general introduction to your topic and then describe what information you currently know about the topic after doing your initial research. Include references to other projects who have asked similar questions or approached similar problems. Explain what others have learned in their projects.\n",
    "\n",
    "Find some relevant prior work, and reference those sources, summarizing what each did and what they learned. Even if you think you have a totally novel question, find the most similar prior work that you can and discuss how it relates to your project.\n",
    "\n",
    "References can be research publications, but they need not be. Blogs, GitHub repositories, company websites, etc., are all viable references if they are relevant to your project. It must be clear which information comes from which references. (2-3 paragraphs, including at least 2 references)\n",
    "\n",
    " **Use inline citation through HTML footnotes to specify which references support which statements** \n",
    "\n",
    "For example: After government genocide in the 20th century, real birds were replaced with surveillance drones designed to look just like birds.<a name=\"cite_ref-1\"></a>[<sup>1</sup>](#cite_note-1) Use a minimum of 2 or 3 citations, but we prefer more.<a name=\"cite_ref-2\"></a>[<sup>2</sup>](#cite_note-2) You need enough to fully explain and back up important facts. \n",
    "\n",
    "Note that if you click a footnote number in the paragraph above it will transport you to the proper entry in the footnotes list below.  And if you click the ^ in the footnote entry, it will return you to the place in the main text where the footnote is made.\n",
    "\n",
    "To understand the HTML here, `<a name=\"#...\"> </a>` is a tag that allows you produce a named reference for a given location.  Markdown has the construciton `[text with hyperlink](#named reference)` that will produce a clickable link that transports you the named reference.\n",
    "\n",
    "1. <a name=\"cite_note-1\"></a> [^](#cite_ref-1) Lorenz, T. (9 Dec 2021) Birds Aren’t Real, or Are They? Inside a Gen Z Conspiracy Theory. *The New York Times*. https://www.nytimes.com/2021/12/09/technology/birds-arent-real-gen-z-misinformation.html \n",
    "2. <a name=\"cite_note-2\"></a> [^](#cite_ref-2) Also refs should be important to the background, not some randomly chosen vaguely related stuff. Include a web link if possible in refs as above.\n"
   ]
  },
  {
   "cell_type": "markdown",
   "metadata": {},
   "source": [
    "In the fast paced, high-stakes world of professional basketball, fans, sports analysts, and front offices constantly seek to identify key indicators of a player’s long term success. Commonly, traditional stats like points per game and rebounds have long been used to assess a player’s value; however, there are advanced analytics such as player efficiency rating, box plus-minus, and true shooting percentages that offer a deeper insight into a player’s impact on the court and in the future for an NBA team. <a name=\"cite_ref-1\"></a>[<sup>1</sup>](#cite_note-1) Some prior work relevant to our research question can be found in an NBA career longevity prediction project in which the authors applied machine learning models to predict whether or not players will play at least 5 years in the NBA given by their performances within their rookie season. Critically, this project utilized more than twenty variables to understand what factors allowed players to thrive in the NBA, such as BLK (average blocks per game), OREB (average offensive rebounds per game), TOV (average turnovers per game), and a lot more. By applying these statistics to models such as SVM and logistic regression, the authors have interpreted that variables such as the amount of games played in a season and win percentage tends to contribute greater results to a team and thus one’s career in the long term. <a name=\"cite_ref-2\"></a>[<sup>2</sup>](#cite_note-2) In an additional project, an analyst sought to compare how people rank the greatest NBA players versus how a “machine” would rank the greatest NBA players based on stats. Geertsen scraped data for the people ranking portion from 3 groups: media, fans, and experts. When scraping for data in the media and expert portion Geertsen chose 8 reliable media sources’ rankings and 7 trusted experts’ rankings to use as data. For the fan portion Geertsen utilized 7 polls and weighed the results based on the number of responses to ensure the data wasn’t heavily skewed because of sample sizes. For the machine part Geertsen used ten metrics to rank every player in order to find the greatest player. Geertsen categorized these statistics into two types, a rate based category (BPM, PIPM) and a sum based category (Win Shares, Raptor JAWS). In order to more fairly calculate a player’s greatness it is important to also weigh a player’s efficiency rather than their sum as certain players had shorter careers. When comparing the machine ranking with the man ranking the lists essentially shared a similar ranking with similar players in the top 12 of each list except for one outlier that was David Robinson. With these results, Geertsen was able to learn that the statistics he used (VORP, PER, BPM, Win Shares, RAPTOR +/-, RAPTOR JAWS, CORP, WOWYR, POPM +/-, PIPM Wins Added) were a good predictor in measuring how great a player was. With great players essentially being guaranteed long careers, we can use the statistics that Ian Geertsen used in our project and see how the correlation of each statistic relates to the length of an NBA career."
   ]
  },
  {
   "cell_type": "markdown",
   "metadata": {},
   "source": [
    "1. <a name=\"cite_note-1\"></a> [^](#cite_ref-1) (Feb 2022) NBA Career Longevity Prediction. *The New York Times*. https://achanbour.github.io/nba-project/index.html#i-project-introduction \n",
    "2. <a name=\"cite_note-2\"></a> [^](#cite_ref-2) Geertsen, Ian. (21 Sep 2020) Man vs Machine: Human and Analytical Evaluations of NBA Greats. *Bruin Sports Analytics*. https://www.bruinsportsanalytics.com/post/man_vs_machine "
   ]
  },
  {
   "cell_type": "markdown",
   "metadata": {},
   "source": [
    "# Hypothesis\n"
   ]
  },
  {
   "cell_type": "markdown",
   "metadata": {},
   "source": [
    "\n",
    "- Put your hypothesis here, this is different than your question. This what you think the answer will be \n",
    "- Ensure that this hypothesis is clear to readers\n",
    "- Explain why you think this will be the outcome (what was your thinking?)\n",
    "\n",
    "If your question is \"What is the association between X and Y\" then a hypothesis might be \"We predict a strong correlation between X and Y\" or you might predict no correlation or any other possible relationship. Briefly explain your thinking. (2-3 sentences)\n",
    "\n",
    "We predict a strong positive correlation between true shooting percentage (TS%) and career longevity because a player's ability to score/shoot efficiently is one of the most important stats when it comes to winning games. Another statistic we predict to have a strong correlation with a long career is win shares as this statistic measures how much a player contributes to winning games which would make them more desirable for managers and coaches to bring on their team.\n"
   ]
  },
  {
   "cell_type": "markdown",
   "metadata": {},
   "source": [
    "# Data"
   ]
  },
  {
   "cell_type": "markdown",
   "metadata": {},
   "source": [
    "1. Explain what the **ideal** dataset you would want to answer this question. (This should include: What variables? How many observations? Who/what/how would these data be collected? How would these data be stored/organized?)\n",
    "\n",
    "Assuming the dataset were ideal, we would have access to detailed player performance metrics such as points per game, assists per game, rebounds per game, and shooting efficiency. We would also get detailed injury history data for each player, covering everything from minor to severe injuries, including recovery times and any recurrence of those injuries throughout their career. Ideally, this dataset would include all NBA players throughout history, around 4800 in total. The data would be organized in a relational database for easy storage and querying. Player statistics would be sourced from Basketball-Reference, while injury data would be gathered from the official NBA injury reports provided by each team.\n",
    "\n",
    "2. Search for potential **real** datasets that could provide you with something useful for this project.  You do not have to find every piece of data you will use, but you do need to have demonstrated some idea that (a) this data is gettable and (b) that this data may be different from what your ideal is.\n",
    "\n",
    "The NBA provides detailed reports of all players and their stats from the 2024-2025 season all the way back to the 1946-47 season. For easier data wrangling we can also use NBA Players Dataset on Kaggle or Basketball-Reference. NBA Injury Database will be able to provide the injury information. However, this may be different from the ideal dataset as there may be minor injuries that are not ultimately reported or injuries before entering the NBA which may be protected by medical confidentiality."
   ]
  },
  {
   "cell_type": "markdown",
   "metadata": {},
   "source": [
    "# Ethics & Privacy"
   ]
  },
  {
   "cell_type": "markdown",
   "metadata": {},
   "source": [
    "- Thoughtful discussion of ethical concerns included\n",
    "- Ethical concerns consider the whole data science process (question asked, data collected, data being used, the bias in data, analysis, post-analysis, etc.)\n",
    "- How your group handled bias/ethical concerns clearly described\n",
    "\n",
    "Acknowledge and address any ethics & privacy related issues of your question(s), proposed dataset(s), and/or analyses. Use the information provided in lecture to guide your group discussion and thinking. If you need further guidance, check out [Deon's Ethics Checklist](http://deon.drivendata.org/#data-science-ethics-checklist). In particular:\n",
    "\n",
    "- Are there any biases/privacy/terms of use issues with the data you propsed?\n",
    "- Are there potential biases in your dataset(s), in terms of who it composes, and how it was collected, that may be problematic in terms of it allowing for equitable analysis? (For example, does your data exclude particular populations, or is it likely to reflect particular human biases in a way that could be a problem?)\n",
    "- How will you set out to detect these specific biases before, during, and after/when communicating your analysis?\n",
    "- Are there any other issues related to your topic area, data, and/or analyses that are potentially problematic in terms of data privacy and equitable impact?\n",
    "- How will you handle issues you identified?"
   ]
  },
  {
   "cell_type": "markdown",
   "metadata": {},
   "source": [
    "Although our study relies on publicly available NBA player statistics based on the last 20 seasons, privacy concerns might arise on the topic of dealing with specific player information, such as injury history and external factors that might influence career longevity. Michael Beasley is a prominent example of this. Although he showed flashes of brilliance early on in his career, his lack of professionalism and off-court issues led to a shorter than expected NBA career. While our study is mainly focusing on data relating to a player’s performance, it is important to note that career longevity is affected by many variables off the court, such as a player’s personal choices as well as outside factors that are out of their control. To address privacy issues relating to data usage, we will make sure to strictly limit our analysis to publicly available statistics, and also make sure to acknowledge the limitations of our study by noting that statistical metrics alone cannot fully explain career longevity. \n",
    "The presence of bias in the data itself is also another key concern. Many statistical metrics used in the NBA like player efficiency rating, box-plus-minus, and even fantasy score, are naturally biased towards certain archetypes or playstyles. In particular, offensive contributions are far more quantifiable than defensive contributions. While a great offensive player’s impact is clearly shown in their statline, a strong defensive player’s influence on the game is not as evident just by looking at their statline. To mitigate this, we can make sure to select a diverse set of statistical metrics that look at player performance from a multitude of angles, including both traditional and more advanced stats. There may also be inherent selection bias within our data, for example, if we only focus on players with longer careers, then we might overlook players who were forced to have shorter careers than expected due to external reasons. Additionally, survivorship bias may be relevant, as players who have had long careers in the league might not be representative of all players – some of them are just inherent outliers. We cannot solely analyze players that have had long careers. To counteract this, we will make sure that our dataset includes a broad and diverse set of players, with a wide range of career lengths and various statistical metrics. \n",
    "\n",
    "Before conducting analysis, we can rely on EDA to get a sense of how our dataset is structured as well as the underlying trends. We can examine the variable distributions in our dataset by using histograms and box plots to detect skewness and outliers, and determine whether or not to include these outliers in our analysis. On the topic of transparency, we would make sure to document decisions like these that alter the trajectory of our analysis as well as any other minor changes we make along the way to ensure our findings are replicable and free from unintended biases. Additionally, we can make sure to do a manual inspection of our dataset to observe if certain groups (e.g. bench players) are underrepresented in our dataset, and readjust our data as necessary by introducing more diversity in the dataset. \n",
    "During analysis, we can best mitigate bias by incorporating a wide variety of metrics to deter the influence of spurious correlations and confounding variables. As previously mentioned, since offensive contributions are often favored in the context of NBA statistics, we should balance our metrics by including a combination of offensive, defensive, and more advanced metrics. Some examples of defensive metrics we can utilize include steal percentage, defensive win shares, and the number of opponent points scored in the paint. Creating a balance of metrics to analyze negates the presence of bias as it allows for a nuanced analysis of players of vastly different playstyles and archetypes. We could implement separate models and utilize different features for players of different positions as well, such as placing guards, forwards, and centers in different groups to analyze. Additionally, factors like a player’s role in their team (e.g. first option, role player, bench player), playing time, injuries, and differences in the era in which a player belongs to could potentially skew our results. To account for this, we can potentially group players by era/team role and also include injury data as a variable if available. To ensure our findings are replicable and generally make sense, we can cross-validate our analysis against reputable evaluations such as advanced scouting reports and analyses. If our findings differ, then it may indicate bias in the metrics we chose to analyze, and we would be able to adjust our model accordingly. \n",
    "After analysis, it is important to evaluate how our model performs across different subgroups. Even if our model performs well overall, it might not work as well for specific groups, which is something we could either list as a limitation or improve upon if necessary. Examining the importance of each of our features is also important, as some features might appear important but not have causality when it comes to predicting career longevity – two variables can be strongly correlated but there can be no causal relationship between them. We should also strengthen our documentation by upholding transparency throughout every step of the process via documentation, from formulating a research question all the way to post-analysis. Being transparent about the presence of biases and openly addressing the limitations in our findings is vital, as well as describing the nuances of how we conducted our analysis along the way. We should also assess interpretability of our results as well as how they are interpreted by others, which ties into the following section.\n",
    "\n",
    "Beyond the scope of data bias, there are other ethical considerations surrounding how the results of our analysis might be interpreted or misused in a way that reinforces existing biases. We should highlight that our model is not capable of fully explaining how a player’s career longevity is determined, which is an important limitation that we must address. If NBA scouts use our findings to predict the career longevity of players, it might have a negative influence on the careers of certain players while disproportionally benefiting others. Players from underrepresented groups such as international players from overseas may face additional adversity when it comes to signing with and staying on an NBA roster. Additionally, historical biases may be inherently embedded within our data, such as traditional guidelines NBA teams have followed when recruiting new players. To mitigate these issues, we will clearly emphasize that our findings are merely for descriptive and exploratory purposes and should not be used as a strict set of guidelines to follow, and that further research should be encouraged to look at a multitude of views. Teams should consider a wide range of factors when deciding on which players to recruit, including many factors that cannot be quantified via our model. It is important to note that our model’s intent is not to be used to predict a player’s future, but rather, to examine preexisting trends based on prior data. Ultimately, this project is one that seeks to understand and uncover past trends, rather than serving as a definitive predictor of player longevity.\n",
    "\n",
    "On the topic of continued monitoring, as the NBA evolves over time, factors that influence career longevity today might not be as relevant in the future, making our predictions become outdated. For instance, big men like Wembanyama now shoot more threes, and being versatile at every position is becoming a necessity. To account for this, we can attempt to make it so that the dataset we use is continuously updated with newer seasons of data, allowing us to make ongoing refinements to our prediction model. We can make periodic examinations to make sure that our conclusions are logical despite ongoing changes in the NBA. Additionally, if individuals ever request for their personal information to be removed in the context of our analysis, we could establish a pipeline to do so, and update our analysis accordingly with the absence of their data, ensuring that our analysis is still robust even with the absence of certain data points. \n"
   ]
  },
  {
   "cell_type": "markdown",
   "metadata": {},
   "source": [
    "# Team Expectations "
   ]
  },
  {
   "cell_type": "markdown",
   "metadata": {},
   "source": [
    "\n",
    "Read over the [COGS108 Team Policies](https://github.com/COGS108/Projects/blob/master/COGS108_TeamPolicies.md) individually. Then, include your group’s expectations of one another for successful completion of your COGS108 project below. Discuss and agree on what all of your expectations are. Discuss how your team will communicate throughout the quarter and consider how you will communicate respectfully should conflicts arise. By including each member’s name above and by adding their name to the submission, you are indicating that you have read the COGS108 Team Policies, accept your team’s expectations below, and have every intention to fulfill them. These expectations are for your team’s use and benefit — they won’t be graded for their details.\n",
    "\n",
    "* *Our team expects to respectfully communicate to one another throughout the project’s timeline*\n",
    "* *Our team expects to complete their responsibilities by each deadline*\n",
    "* *Our team expects to contribute equally and collaborate by providing feedback and constructive criticism as well as by communicating our findings*\n",
    "* *Our team expects to prepare and attend group meetings to check on each other and cover specific issues in case of conflicts*\n",
    "* *Should conflicts arise, we expect to cooperate by sharing our viewpoints and then finding a conclusion as a team*\n",
    "* *Alan, David, Jin, Nathan, and Ricky will perform at their best and approach each project component with utmost diligence and contribution*"
   ]
  },
  {
   "cell_type": "markdown",
   "metadata": {},
   "source": [
    "# Project Timeline Proposal"
   ]
  },
  {
   "cell_type": "markdown",
   "metadata": {},
   "source": [
    "Specify your team's specific project timeline. An example timeline has been provided. Changes the dates, times, names, and details to fit your group's plan.\n",
    "\n",
    "If you think you will need any special resources or training outside what we have covered in COGS 108 to solve your problem, then your proposal should state these clearly. For example, if you have selected a problem that involves implementing multiple neural networks, please state this so we can make sure you know what you’re doing and so we can point you to resources you will need to implement your project. Note that you are not required to use outside methods.\n",
    "\n",
    "\n",
    "\n",
    "| Meeting Date  | Meeting Time| Completed Before Meeting  | Discuss at Meeting |\n",
    "|---|---|---|---|\n",
    "| 2/5  |  8:30 PM | Read & Think about COGS 108 expectations; brainstorm topics/questions  | Determine best form of communication; Discuss and decide on final project topic; discuss hypothesis; begin background research | \n",
    "| 2/8  |  8:30 PM |  Do background research on topic | Discuss ideal dataset(s) and ethics; draft project proposal | \n",
    "| 2/9  |  8:30 PM  | Edit, finalize, and submit proposal; Search for datasets  | Discuss Wrangling and possible analytical approaches; Assign group members to lead each specific part   |\n",
    "| 2/12  | 12:30 PM  | Import & Wrangle Data (Jin); EDA (Alan, Nathan) | Review/Edit wrangling/EDA (Everyone); Discuss Analysis Plan   |\n",
    "| 2/23  | 12 PM  | Finalize wrangling/EDA; Begin Analysis (Ricky; David) | Discuss/edit Analysis; Complete project check-in |\n",
    "| 3/13  | 12 PM  | Complete analysis; Draft results/conclusion/discussion (Wasp)| Discuss/edit full project |\n",
    "| 3/20  | Before 11:59 PM  | NA | Turn in Final Project & Group Project Surveys |"
   ]
  }
 ],
 "metadata": {
  "kernelspec": {
   "display_name": "Python 3",
   "language": "python",
   "name": "python3"
  },
  "language_info": {
   "codemirror_mode": {
    "name": "ipython",
    "version": 3
   },
   "file_extension": ".py",
   "mimetype": "text/x-python",
   "name": "python",
   "nbconvert_exporter": "python",
   "pygments_lexer": "ipython3",
   "version": "3.11.9"
  }
 },
 "nbformat": 4,
 "nbformat_minor": 2
}
